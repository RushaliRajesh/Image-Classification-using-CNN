{
 "cells": [
  {
   "cell_type": "code",
   "execution_count": 1,
   "metadata": {},
   "outputs": [
    {
     "name": "stderr",
     "output_type": "stream",
     "text": [
      "Using TensorFlow backend.\n"
     ]
    }
   ],
   "source": [
    "import tensorflow as tf\n",
    "import keras\n",
    "import pandas as pd\n",
    "import os\n",
    "import numpy\n",
    "import cv2\n",
    "import matplotlib.pyplot as plt"
   ]
  },
  {
   "cell_type": "code",
   "execution_count": 2,
   "metadata": {},
   "outputs": [],
   "source": [
    "datadir = r\"C:\\Users\\lenovo\\Downloads\\Concrete Images\\Concrete Crack Images\"\n",
    "classes = [\"Negative\",\"Positive\"]"
   ]
  },
  {
   "cell_type": "code",
   "execution_count": 3,
   "metadata": {},
   "outputs": [],
   "source": [
    "img_size= 120\n",
    "data= []\n",
    "for i in classes:\n",
    "    path = os.path.join(datadir, i)\n",
    "    class_label = classes.index(i)\n",
    "    for img in os.listdir(path):\n",
    "        img_array = cv2.imread(os.path.join(path,img), cv2.IMREAD_GRAYSCALE)\n",
    "        new_img_array = cv2.resize(img_array,(img_size,img_size))\n",
    "        data.append([new_img_array,class_label]) \n",
    "    "
   ]
  },
  {
   "cell_type": "code",
   "execution_count": 4,
   "metadata": {},
   "outputs": [],
   "source": [
    "import random\n",
    "random.shuffle(data)"
   ]
  },
  {
   "cell_type": "code",
   "execution_count": 17,
   "metadata": {},
   "outputs": [
    {
     "data": {
      "text/plain": [
       "40000"
      ]
     },
     "execution_count": 17,
     "metadata": {},
     "output_type": "execute_result"
    }
   ],
   "source": [
    "len(data)"
   ]
  },
  {
   "cell_type": "code",
   "execution_count": null,
   "metadata": {},
   "outputs": [],
   "source": []
  },
  {
   "cell_type": "code",
   "execution_count": 5,
   "metadata": {},
   "outputs": [],
   "source": [
    "# reshape the image to be on the correct format for tensorflow (nº images, width, height, channels)\n",
    "from keras.utils import to_categorical\n",
    "features=[]\n",
    "labels=[]\n",
    "for f,l in data:\n",
    "    features.append(f)\n",
    "    labels.append(l)\n",
    "features = numpy.array(features).reshape(-1,img_size,img_size,1)\n",
    "labels = to_categorical(labels)\n"
   ]
  },
  {
   "cell_type": "code",
   "execution_count": 6,
   "metadata": {},
   "outputs": [],
   "source": [
    "from sklearn.model_selection import train_test_split\n",
    "x_train, x_test, y_train, y_test = train_test_split(features, labels, test_size=0.25, random_state=42)"
   ]
  },
  {
   "cell_type": "code",
   "execution_count": 20,
   "metadata": {},
   "outputs": [
    {
     "data": {
      "text/plain": [
       "30000"
      ]
     },
     "execution_count": 20,
     "metadata": {},
     "output_type": "execute_result"
    }
   ],
   "source": [
    "len(x_train)"
   ]
  },
  {
   "cell_type": "code",
   "execution_count": 21,
   "metadata": {},
   "outputs": [
    {
     "data": {
      "text/plain": [
       "10000"
      ]
     },
     "execution_count": 21,
     "metadata": {},
     "output_type": "execute_result"
    }
   ],
   "source": [
    "len(x_test)"
   ]
  },
  {
   "cell_type": "code",
   "execution_count": 7,
   "metadata": {},
   "outputs": [],
   "source": [
    "x_train= x_train.astype('float32')\n",
    "x_test= x_test.astype('float32')\n",
    "x_train/=255\n",
    "x_test/=255 "
   ]
  },
  {
   "cell_type": "code",
   "execution_count": 8,
   "metadata": {},
   "outputs": [
    {
     "name": "stdout",
     "output_type": "stream",
     "text": [
      "Model: \"sequential_1\"\n",
      "_________________________________________________________________\n",
      "Layer (type)                 Output Shape              Param #   \n",
      "=================================================================\n",
      "conv2d_1 (Conv2D)            (None, 118, 118, 32)      320       \n",
      "_________________________________________________________________\n",
      "conv2d_2 (Conv2D)            (None, 116, 116, 32)      9248      \n",
      "_________________________________________________________________\n",
      "max_pooling2d_1 (MaxPooling2 (None, 58, 58, 32)        0         \n",
      "_________________________________________________________________\n",
      "conv2d_3 (Conv2D)            (None, 56, 56, 64)        18496     \n",
      "_________________________________________________________________\n",
      "conv2d_4 (Conv2D)            (None, 54, 54, 64)        36928     \n",
      "_________________________________________________________________\n",
      "max_pooling2d_2 (MaxPooling2 (None, 27, 27, 64)        0         \n",
      "_________________________________________________________________\n",
      "conv2d_5 (Conv2D)            (None, 25, 25, 128)       73856     \n",
      "_________________________________________________________________\n",
      "conv2d_6 (Conv2D)            (None, 23, 23, 128)       147584    \n",
      "_________________________________________________________________\n",
      "max_pooling2d_3 (MaxPooling2 (None, 11, 11, 128)       0         \n",
      "_________________________________________________________________\n",
      "flatten_1 (Flatten)          (None, 15488)             0         \n",
      "_________________________________________________________________\n",
      "dense_1 (Dense)              (None, 128)               1982592   \n",
      "_________________________________________________________________\n",
      "dense_2 (Dense)              (None, 2)                 258       \n",
      "=================================================================\n",
      "Total params: 2,269,282\n",
      "Trainable params: 2,269,282\n",
      "Non-trainable params: 0\n",
      "_________________________________________________________________\n"
     ]
    }
   ],
   "source": [
    "from keras.models import Sequential\n",
    "from keras.layers import Dense, Conv2D, Flatten, MaxPooling2D, Conv2D, Dropout, AveragePooling2D\n",
    "from tensorflow.keras.callbacks import EarlyStopping\n",
    "\n",
    "model = Sequential()\n",
    "\n",
    "model.add(Conv2D(32, kernel_size = 3, activation = 'relu',input_shape=(img_size,img_size,1)))  \n",
    "model.add(Conv2D(32, kernel_size = 3, activation = 'relu'))\n",
    "model.add(MaxPooling2D(pool_size = (2,2) , strides = 2))\n",
    "\n",
    "model.add(Conv2D(64, kernel_size = 3, activation = 'relu'))\n",
    "model.add(Conv2D(64, kernel_size = 3, activation = 'relu'))\n",
    "model.add(MaxPooling2D(pool_size = (2,2) , strides = 2))\n",
    "\n",
    "model.add(Conv2D(128, kernel_size = 3, activation = 'relu'))\n",
    "model.add(Conv2D(128, kernel_size = 3, activation = 'relu'))\n",
    "model.add(MaxPooling2D(pool_size = (2,2) , strides = 2))\n",
    "\n",
    "model.add(Flatten())\n",
    "model.add(Dense(128, activation='relu'))\n",
    "model.add(Dense(2, activation='softmax'))\n",
    "\n",
    "model.summary()\n",
    "\n",
    "es = EarlyStopping(monitor='val_loss',\n",
    "                              min_delta=0,\n",
    "                              patience=0,\n",
    "                              verbose=0, mode='auto')"
   ]
  },
  {
   "cell_type": "code",
   "execution_count": 16,
   "metadata": {},
   "outputs": [],
   "source": [
    "from keras.optimizers import SGD\n",
    "opt=SGD(lr=0.001, momentum=0.9)\n",
    "model.compile(optimizer=opt, loss='categorical_crossentropy', metrics=['accuracy'],)"
   ]
  },
  {
   "cell_type": "code",
   "execution_count": 17,
   "metadata": {},
   "outputs": [
    {
     "name": "stdout",
     "output_type": "stream",
     "text": [
      "Train on 30000 samples, validate on 10000 samples\n",
      "Epoch 1/10\n",
      "30000/30000 [==============================] - 1455s 49ms/step - loss: 0.0265 - accuracy: 0.9930 - val_loss: 0.0190 - val_accuracy: 0.9944\n",
      "Epoch 2/10\n",
      "30000/30000 [==============================] - 1391s 46ms/step - loss: 0.0174 - accuracy: 0.9951 - val_loss: 0.0247 - val_accuracy: 0.9935\n",
      "Epoch 3/10\n",
      "30000/30000 [==============================] - 1403s 47ms/step - loss: 0.0170 - accuracy: 0.9958 - val_loss: 0.0158 - val_accuracy: 0.9959\n",
      "Epoch 4/10\n",
      "30000/30000 [==============================] - 1414s 47ms/step - loss: 0.0144 - accuracy: 0.9963 - val_loss: 0.0195 - val_accuracy: 0.9959\n",
      "Epoch 5/10\n",
      "30000/30000 [==============================] - 1399s 47ms/step - loss: 0.0124 - accuracy: 0.9966 - val_loss: 0.0130 - val_accuracy: 0.9966\n",
      "Epoch 6/10\n",
      "30000/30000 [==============================] - 1392s 46ms/step - loss: 0.0111 - accuracy: 0.9971 - val_loss: 0.0120 - val_accuracy: 0.9970\n",
      "Epoch 7/10\n",
      "30000/30000 [==============================] - 1926s 64ms/step - loss: 0.0106 - accuracy: 0.9972 - val_loss: 0.0153 - val_accuracy: 0.9958\n",
      "Epoch 8/10\n",
      "30000/30000 [==============================] - 1397s 47ms/step - loss: 0.0102 - accuracy: 0.9972 - val_loss: 0.0146 - val_accuracy: 0.9960\n",
      "Epoch 9/10\n",
      "30000/30000 [==============================] - 1364s 45ms/step - loss: 0.0091 - accuracy: 0.9975 - val_loss: 0.0120 - val_accuracy: 0.9967\n",
      "Epoch 10/10\n",
      "30000/30000 [==============================] - 1310s 44ms/step - loss: 0.0093 - accuracy: 0.9976 - val_loss: 0.0114 - val_accuracy: 0.9972\n"
     ]
    }
   ],
   "source": [
    "history= model.fit(x_train,y_train,validation_data=(x_test,y_test), epochs=10, batch_size=32)"
   ]
  },
  {
   "cell_type": "code",
   "execution_count": 18,
   "metadata": {},
   "outputs": [
    {
     "data": {
      "image/png": "[encoded data removed]",
      "text/plain": [
       "<Figure size 432x288 with 1 Axes>"
      ]
     },
     "metadata": {
      "needs_background": "light"
     },
     "output_type": "display_data"
    }
   ],
   "source": [
    "loss_train = history.history['accuracy']\n",
    "loss_val = history.history['val_accuracy']\n",
    "epochs = range(1,11)\n",
    "plt.plot(epochs, loss_train, 'g', label='Training accuracy')\n",
    "plt.plot(epochs, loss_val, 'b', label='validation accuracy')\n",
    "plt.title('Training and Validation accuracy')\n",
    "plt.xlabel('Epochs')\n",
    "plt.ylabel('Accuracy')\n",
    "plt.legend()\n",
    "plt.show()"
   ]
  },
  {
   "cell_type": "code",
   "execution_count": 19,
   "metadata": {},
   "outputs": [
    {
     "data": {
      "text/plain": [
       "array([0, 1, 1, ..., 0, 0, 0], dtype=int64)"
      ]
     },
     "execution_count": 19,
     "metadata": {},
     "output_type": "execute_result"
    }
   ],
   "source": [
    "score = model.predict_classes(x_test)\n",
    "score"
   ]
  },
  {
   "cell_type": "code",
   "execution_count": 20,
   "metadata": {},
   "outputs": [],
   "source": [
    "score=numpy.array(score)"
   ]
  },
  {
   "cell_type": "code",
   "execution_count": 21,
   "metadata": {},
   "outputs": [],
   "source": [
    "labels=numpy.array(labels)"
   ]
  },
  {
   "cell_type": "code",
   "execution_count": 22,
   "metadata": {},
   "outputs": [
    {
     "name": "stdout",
     "output_type": "stream",
     "text": [
      "Confusion Matrix\n",
      "[[4927   13]\n",
      " [  15 5045]]\n"
     ]
    }
   ],
   "source": [
    "from sklearn.metrics import confusion_matrix\n",
    "scores_actual=[ numpy.argmax(item) for item in y_test]\n",
    "print('Confusion Matrix')\n",
    "print(confusion_matrix(scores_actual, score))"
   ]
  },
  {
   "cell_type": "code",
   "execution_count": 23,
   "metadata": {},
   "outputs": [
    {
     "data": {
      "text/plain": [
       "10000"
      ]
     },
     "execution_count": 23,
     "metadata": {},
     "output_type": "execute_result"
    }
   ],
   "source": [
    "len(score)"
   ]
  },
  {
   "cell_type": "code",
   "execution_count": 24,
   "metadata": {},
   "outputs": [
    {
     "name": "stdout",
     "output_type": "stream",
     "text": [
      "TEST ACCURACY:  0.9972\n"
     ]
    }
   ],
   "source": [
    "from sklearn import metrics\n",
    "acc= metrics.accuracy_score(scores_actual, score)\n",
    "print(\"TEST ACCURACY: \", acc)"
   ]
  },
  {
   "cell_type": "code",
   "execution_count": null,
   "metadata": {},
   "outputs": [],
   "source": []
  }
 ],
 "metadata": {
  "kernelspec": {
   "display_name": "Python 3",
   "language": "python",
   "name": "python3"
  },
  "language_info": {
   "codemirror_mode": {
    "name": "ipython",
    "version": 3
   },
   "file_extension": ".py",
   "mimetype": "text/x-python",
   "name": "python",
   "nbconvert_exporter": "python",
   "pygments_lexer": "ipython3",
   "version": "3.6.10"
  }
 },
 "nbformat": 4,
 "nbformat_minor": 4
}
